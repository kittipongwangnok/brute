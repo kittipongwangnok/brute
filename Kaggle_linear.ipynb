{
 "cells": [
  {
   "cell_type": "code",
   "execution_count": 1,
   "id": "78aa9bd6",
   "metadata": {},
   "outputs": [],
   "source": [
    "#Kittipong Wangnok\n",
    "#School of Physics, Institute of Science, Suranaree University of Technology\n",
    "#Import module\n",
    "import sys\n",
    "import os\n",
    "import numpy as np\n",
    "np.seterr(divide='ignore', invalid='ignore')\n",
    "from matplotlib import pyplot as plt\n",
    "\n",
    "from matplotlib import rc\n",
    "rc('text', usetex=True)\n",
    "rc('font', family='serif',size=14)"
   ]
  },
  {
   "cell_type": "code",
   "execution_count": 2,
   "id": "69cd8984",
   "metadata": {},
   "outputs": [
    {
     "name": "stdout",
     "output_type": "stream",
     "text": [
      "2022_July_week2_OC_New_ephemeris.pdf\r\n",
      "Beuermann2011_generated_model.pdf\r\n",
      "Kaggle.ipynb\r\n",
      "Kaggle_linear.ipynb\r\n",
      "OC_LTT_dpleo_brute.ipynb\r\n",
      "decaying_sine_wave_brute.ipynb\r\n",
      "generate_model_brute.ipynb\r\n",
      "interporate_lnLTT_fit_Beuermann.out\r\n",
      "oc_dpleo_Beuermann_Schwope_Kittipong.inp\r\n",
      "oc_linear_dpleo_Beuermann_Schwope_Kittipong_ephemeris_determination.txt\r\n"
     ]
    }
   ],
   "source": [
    "ls"
   ]
  },
  {
   "cell_type": "code",
   "execution_count": 3,
   "id": "4d728264",
   "metadata": {},
   "outputs": [],
   "source": [
    "#Read data ---#1\n",
    "Input = \"oc_dpleo_Beuermann_Schwope_Kittipong.inp\"\n",
    "Data   = np.genfromtxt(Input)\n",
    "\n",
    "Epoch = Data[:,0]\n",
    "T_obs = Data[:,1]\n",
    "T_obs_err = Data[:,2]\n",
    "\n",
    "#print(len(Epoch))"
   ]
  },
  {
   "cell_type": "code",
   "execution_count": 4,
   "id": "a1fd4519",
   "metadata": {},
   "outputs": [
    {
     "data": {
      "image/png": "[encoded data removed]",
      "text/plain": [
       "<Figure size 720x360 with 1 Axes>"
      ]
     },
     "metadata": {
      "needs_background": "light"
     },
     "output_type": "display_data"
    }
   ],
   "source": [
    "fig, (ax0) = plt.subplots(1, 1, sharex=True, sharey=False, figsize=(10, 5), tight_layout=True)\n",
    "#plt.xlim(-0.04,0.04)\n",
    "#plt.xlabel('Orbital phase')\n",
    "\n",
    "ax0.tick_params(direction='in', which='both', bottom='on',top='on', right = 'on')\n",
    "#ax1.tick_params(direction='in', which='both', bottom='on',top='on', right = 'on')\n",
    "\n",
    "ax0.errorbar(Epoch, T_obs, yerr= T_obs_err, fmt='o', color='blue',\n",
    "             ecolor='lightgray', elinewidth=1, capsize=0)\n",
    "\n",
    "\n",
    "#ax0.legend(loc=\"best\")\n",
    "ax0.set_xlabel('E')\n",
    "ax0.set_ylabel('$T_{E}$')\n",
    "\n",
    "#ax0.set_ylim(-30, 40)\n",
    "\n",
    "fig.align_ylabels()\n",
    "#output_filename = os.path.splitext(__file__)[0] + '.png'\n",
    "#plt.savefig(output_filename, dpi=1000)\n",
    "#plt.savefig(\"spot_longitude_Beuermann_Kittipong.png\")\n",
    "plt.show()"
   ]
  },
  {
   "cell_type": "code",
   "execution_count": 5,
   "id": "05ab68db",
   "metadata": {},
   "outputs": [],
   "source": [
    "x = Epoch\n",
    "y = T_obs\n",
    "dy = T_obs_err\n",
    "\n",
    "len_x = len(x)\n",
    "#print(len_x)"
   ]
  },
  {
   "cell_type": "code",
   "execution_count": 6,
   "id": "57fa4c46",
   "metadata": {},
   "outputs": [],
   "source": [
    "import copy\n",
    "\n",
    "from matplotlib.colors import LogNorm\n",
    "import matplotlib.pyplot as plt\n",
    "import numpy as np\n",
    "\n",
    "from lmfit import Minimizer, Parameters, fit_report"
   ]
  },
  {
   "cell_type": "code",
   "execution_count": 7,
   "id": "1afe7335",
   "metadata": {},
   "outputs": [],
   "source": [
    "def linear_fit(params, x, y):\n",
    "    m = params['m']\n",
    "    c = params['c']\n",
    "    model = m*x + c\n",
    "    return model - y"
   ]
  },
  {
   "cell_type": "code",
   "execution_count": 8,
   "id": "97c5818d",
   "metadata": {},
   "outputs": [],
   "source": [
    "# create a set of Parameters\n",
    "params = Parameters()\n",
    "#params.add('m', value=0.062362846562657996, min=0)\n",
    "#params.add('c', value=48773.21447208912, min=0)\n",
    "\n",
    "params.add('m', value=0.06236284988039249)\n",
    "params.add('c', value=48773.21418374931)\n",
    "\n",
    "params['m'].set(brute_step=0.0025)\n",
    "params['c'].set(brute_step=500)"
   ]
  },
  {
   "cell_type": "code",
   "execution_count": 9,
   "id": "1ac8b965",
   "metadata": {},
   "outputs": [
    {
     "name": "stdout",
     "output_type": "stream",
     "text": [
      "Name     Value      Min      Max   Stderr     Vary     Expr Brute_Step\n",
      "c  4.877e+04     -inf      inf     None     True     None      500\n",
      "m   0.06236     -inf      inf     None     True     None   0.0025\n"
     ]
    }
   ],
   "source": [
    "params.pretty_print()"
   ]
  },
  {
   "cell_type": "code",
   "execution_count": 10,
   "id": "6cfe7113",
   "metadata": {},
   "outputs": [],
   "source": [
    "fitter = Minimizer(linear_fit, params, fcn_args=(x, y))\n",
    "result_brute = fitter.minimize(method='brute', Ns=250, keep=250)"
   ]
  },
  {
   "cell_type": "code",
   "execution_count": 11,
   "id": "2979da06",
   "metadata": {},
   "outputs": [
    {
     "name": "stdout",
     "output_type": "stream",
     "text": [
      "[[Fit Statistics]]\n",
      "    # fitting method   = brute\n",
      "    # function evals   = 62500\n",
      "    # data points      = 113\n",
      "    # variables        = 2\n",
      "    chi-square         = 4.2666e-05\n",
      "    reduced chi-square = 3.8438e-07\n",
      "    Akaike info crit   = -1667.21328\n",
      "    Bayesian info crit = -1661.75850\n",
      "##  Warning: uncertainties could not be estimated:\n",
      "    m:  at initial value\n",
      "    c:  at initial value\n",
      "[[Variables]]\n",
      "    m:  0.06236285 (init = 0.06236285)\n",
      "    c:  48773.2142 (init = 48773.21)\n"
     ]
    }
   ],
   "source": [
    "print(fit_report(result_brute))"
   ]
  },
  {
   "cell_type": "code",
   "execution_count": 12,
   "id": "126191fd",
   "metadata": {},
   "outputs": [
    {
     "data": {
      "image/png": "[encoded data removed]",
      "text/plain": [
       "<Figure size 432x288 with 1 Axes>"
      ]
     },
     "metadata": {
      "needs_background": "light"
     },
     "output_type": "display_data"
    }
   ],
   "source": [
    "plt.plot(x, y, 'o')\n",
    "plt.plot(x, y + linear_fit(result_brute.params, x, y), '--')\n",
    "plt.show()"
   ]
  },
  {
   "cell_type": "code",
   "execution_count": 13,
   "id": "8552d44c",
   "metadata": {},
   "outputs": [
    {
     "name": "stdout",
     "output_type": "stream",
     "text": [
      "\n",
      "Candidate #1, chisqr = 0.000\n",
      "Name     Value      Min      Max   Stderr     Vary     Expr Brute_Step\n",
      "c  4.877e+04     -inf      inf     None     True     None      500\n",
      "m   0.06236     -inf      inf     None     True     None   0.0025\n"
     ]
    }
   ],
   "source": [
    "result_brute.show_candidates(1)"
   ]
  },
  {
   "cell_type": "code",
   "execution_count": 14,
   "id": "bb639f04",
   "metadata": {},
   "outputs": [
    {
     "name": "stdout",
     "output_type": "stream",
     "text": [
      "\n",
      "Candidate #2, chisqr = 7481266.753\n",
      "Name     Value      Min      Max   Stderr     Vary     Expr Brute_Step\n",
      "c  4.877e+04     -inf      inf     None     True     None      500\n",
      "m   0.05986     -inf      inf     None     True     None   0.0025\n"
     ]
    }
   ],
   "source": [
    "result_brute.show_candidates(2)"
   ]
  },
  {
   "cell_type": "code",
   "execution_count": 15,
   "id": "9531a123",
   "metadata": {},
   "outputs": [],
   "source": [
    "best_result = copy.deepcopy(result_brute)\n",
    "\n",
    "for candidate in result_brute.candidates:\n",
    "    trial = fitter.minimize(method='leastsq', params=candidate.params)\n",
    "    if trial.chisqr < best_result.chisqr:\n",
    "        best_result = trial"
   ]
  },
  {
   "cell_type": "code",
   "execution_count": 16,
   "id": "fd69e409",
   "metadata": {},
   "outputs": [
    {
     "name": "stdout",
     "output_type": "stream",
     "text": [
      "[[Fit Statistics]]\n",
      "    # fitting method   = leastsq\n",
      "    # function evals   = 7\n",
      "    # data points      = 113\n",
      "    # variables        = 2\n",
      "    chi-square         = 1.7998e-05\n",
      "    reduced chi-square = 1.6215e-07\n",
      "    Akaike info crit   = -1764.74658\n",
      "    Bayesian info crit = -1759.29180\n",
      "[[Variables]]\n",
      "    m:  0.06236285 +/- 5.2970e-10 (0.00%) (init = 0.06236285)\n",
      "    c:  48773.2149 +/- 5.4518e-05 (0.00%) (init = 48273.21)\n",
      "[[Correlations]] (unreported correlations are < 0.100)\n",
      "    C(m, c) = -0.719\n"
     ]
    }
   ],
   "source": [
    "print(fit_report(best_result))"
   ]
  },
  {
   "cell_type": "code",
   "execution_count": 17,
   "id": "b161236c",
   "metadata": {},
   "outputs": [
    {
     "data": {
      "image/png": "[encoded data removed]",
      "text/plain": [
       "<Figure size 432x288 with 1 Axes>"
      ]
     },
     "metadata": {
      "needs_background": "light"
     },
     "output_type": "display_data"
    }
   ],
   "source": [
    "plt.plot(x, y, 'o')\n",
    "plt.plot(x, y + linear_fit(result_brute.params, x, y), '-',\n",
    "         label='brute')\n",
    "plt.plot(x, y + linear_fit(best_result.params, x, y), '--',\n",
    "         label='brute followed by leastsq')\n",
    "plt.legend()\n",
    "plt.show()"
   ]
  },
  {
   "cell_type": "code",
   "execution_count": 44,
   "id": "1b5dbee5",
   "metadata": {},
   "outputs": [],
   "source": [
    "def plot_results_brute(result, best_vals=True, varlabels=None,\n",
    "                       output=None):\n",
    "    \"\"\"Visualize the result of the brute force grid search.\n",
    "\n",
    "    The output file will display the chi-square value per parameter and contour\n",
    "    plots for all combination of two parameters.\n",
    "\n",
    "    Inspired by the `corner` package (https://github.com/dfm/corner.py).\n",
    "\n",
    "    Parameters\n",
    "    ----------\n",
    "    result : :class:`~lmfit.minimizer.MinimizerResult`\n",
    "        Contains the results from the :meth:`brute` method.\n",
    "\n",
    "    best_vals : bool, optional\n",
    "        Whether to show the best values from the grid search (default is True).\n",
    "\n",
    "    varlabels : list, optional\n",
    "        If None (default), use `result.var_names` as axis labels, otherwise\n",
    "        use the names specified in `varlabels`.\n",
    "\n",
    "    output : str, optional\n",
    "        Name of the output PDF file (default is 'None')\n",
    "    \"\"\"\n",
    "    npars = len(result.var_names)\n",
    "    _fig, axes = plt.subplots(npars, npars)\n",
    "\n",
    "    if not varlabels:\n",
    "        varlabels = result.var_names\n",
    "    if best_vals and isinstance(best_vals, bool):\n",
    "        best_vals = result.params\n",
    "\n",
    "    for i, par1 in enumerate(result.var_names):\n",
    "        for j, par2 in enumerate(result.var_names):\n",
    "\n",
    "            # parameter vs chi2 in case of only one parameter\n",
    "            if npars == 1:\n",
    "                axes.plot(result.brute_grid, result.brute_Jout, 'o', ms=3)\n",
    "                axes.set_ylabel(r'$\\chi^{2}$')\n",
    "                axes.set_xlabel(varlabels[i])\n",
    "                if best_vals:\n",
    "                    axes.axvline(best_vals[par1].value, ls='dashed', color='r')\n",
    "\n",
    "            # parameter vs chi2 profile on top\n",
    "            elif i == j and j < npars-1:\n",
    "                if i == 0:\n",
    "                    axes[0, 0].axis('off')\n",
    "                ax = axes[i, j+1]\n",
    "                red_axis = tuple(a for a in range(npars) if a != i)\n",
    "                ax.plot(np.unique(result.brute_grid[i]),\n",
    "                        np.minimum.reduce(result.brute_Jout, axis=red_axis),\n",
    "                        'o', ms=3)\n",
    "                ax.set_ylabel(r'$\\chi^{2}$')\n",
    "                ax.yaxis.set_label_position(\"right\")\n",
    "                ax.yaxis.set_ticks_position('right')\n",
    "                ax.set_xticks([])\n",
    "                if best_vals:\n",
    "                    ax.axvline(best_vals[par1].value, ls='dashed', color='r')\n",
    "\n",
    "            # parameter vs chi2 profile on the left\n",
    "            elif j == 0 and i > 0:\n",
    "                ax = axes[i, j]\n",
    "                red_axis = tuple(a for a in range(npars) if a != i)\n",
    "                ax.plot(np.minimum.reduce(result.brute_Jout, axis=red_axis),\n",
    "                        np.unique(result.brute_grid[i]), 'o', ms=3)\n",
    "                ax.invert_xaxis()\n",
    "                ax.set_ylabel(varlabels[i])\n",
    "                if i != npars-1:\n",
    "                    ax.set_xticks([])\n",
    "                else:\n",
    "                    ax.set_xlabel(r'$\\chi^{2}$')\n",
    "                if best_vals:\n",
    "                    ax.axhline(best_vals[par1].value, ls='dashed', color='r')\n",
    "\n",
    "            # contour plots for all combinations of two parameters\n",
    "            elif j > i:\n",
    "                ax = axes[j, i+1]\n",
    "                red_axis = tuple(a for a in range(npars) if a not in (i, j))\n",
    "                X, Y = np.meshgrid(np.unique(result.brute_grid[i]),\n",
    "                                   np.unique(result.brute_grid[j]))\n",
    "                lvls1 = np.linspace(result.brute_Jout.min(),\n",
    "                                    np.median(result.brute_Jout)/2.0, 7, dtype='int')\n",
    "                lvls2 = np.linspace(np.median(result.brute_Jout)/2.0,\n",
    "                                    np.median(result.brute_Jout), 3, dtype='int')\n",
    "                lvls = np.unique(np.concatenate((lvls1, lvls2)))\n",
    "                ax.contourf(X.T, Y.T, np.minimum.reduce(result.brute_Jout, axis=red_axis),\n",
    "                            lvls, norm=LogNorm())\n",
    "                ax.set_yticks([])\n",
    "                if best_vals:\n",
    "                    ax.axvline(best_vals[par1].value, ls='dashed', color='r')\n",
    "                    ax.axhline(best_vals[par2].value, ls='dashed', color='r')\n",
    "                    ax.plot(best_vals[par1].value, best_vals[par2].value, 'rs', ms=3)\n",
    "                if j != npars-1:\n",
    "                    ax.set_xticks([])\n",
    "                else:\n",
    "                    ax.set_xlabel(varlabels[i])\n",
    "                if j - i >= 2:\n",
    "                    axes[i, j].axis('off')\n",
    "\n",
    "    if output is not None:\n",
    "        plt.savefig(output)"
   ]
  },
  {
   "cell_type": "code",
   "execution_count": 46,
   "id": "87c860ce",
   "metadata": {},
   "outputs": [
    {
     "data": {
      "image/png": "[encoded data removed]",
      "text/plain": [
       "<Figure size 432x288 with 4 Axes>"
      ]
     },
     "metadata": {
      "needs_background": "light"
     },
     "output_type": "display_data"
    }
   ],
   "source": [
    "plot_results_brute(result_brute, best_vals=True, varlabels=None, output=None)"
   ]
  },
  {
   "cell_type": "code",
   "execution_count": 20,
   "id": "45317580",
   "metadata": {},
   "outputs": [
    {
     "ename": "ValueError",
     "evalue": "It looks like the parameter(s) in column(s) 0 have no dynamic range. Please provide a `range` argument.",
     "output_type": "error",
     "traceback": [
      "\u001b[0;31m---------------------------------------------------------------------------\u001b[0m",
      "\u001b[0;31mValueError\u001b[0m                                Traceback (most recent call last)",
      "\u001b[0;32m/var/folders/0y/kr_p7yqx01x3ns4jn1zjcpp80000gn/T/ipykernel_11353/4185584003.py\u001b[0m in \u001b[0;36m<module>\u001b[0;34m\u001b[0m\n\u001b[1;32m      1\u001b[0m \u001b[0mlabels\u001b[0m \u001b[0;34m=\u001b[0m \u001b[0;34m[\u001b[0m\u001b[0;34m'x'\u001b[0m\u001b[0;34m,\u001b[0m\u001b[0;34m'y'\u001b[0m\u001b[0;34m,\u001b[0m\u001b[0;34m'f'\u001b[0m\u001b[0;34m]\u001b[0m\u001b[0;34m\u001b[0m\u001b[0;34m\u001b[0m\u001b[0m\n\u001b[1;32m      2\u001b[0m \u001b[0mfig\u001b[0m\u001b[0;34m=\u001b[0m\u001b[0mplt\u001b[0m\u001b[0;34m.\u001b[0m\u001b[0mfigure\u001b[0m\u001b[0;34m(\u001b[0m\u001b[0mfigsize\u001b[0m\u001b[0;34m=\u001b[0m\u001b[0;34m(\u001b[0m\u001b[0;36m7\u001b[0m\u001b[0;34m,\u001b[0m\u001b[0;36m7\u001b[0m\u001b[0;34m)\u001b[0m\u001b[0;34m,\u001b[0m\u001b[0mdpi\u001b[0m\u001b[0;34m=\u001b[0m\u001b[0;36m100\u001b[0m\u001b[0;34m)\u001b[0m\u001b[0;34m\u001b[0m\u001b[0;34m\u001b[0m\u001b[0m\n\u001b[0;32m----> 3\u001b[0;31m fig=corner.corner(\n\u001b[0m\u001b[1;32m      4\u001b[0m     \u001b[0mresult_brute\u001b[0m\u001b[0;34m,\u001b[0m \u001b[0mlabels\u001b[0m\u001b[0;34m=\u001b[0m\u001b[0mlabels\u001b[0m\u001b[0;34m,\u001b[0m \u001b[0mquantiles\u001b[0m\u001b[0;34m=\u001b[0m\u001b[0;34m(\u001b[0m\u001b[0;36m0.16\u001b[0m\u001b[0;34m,\u001b[0m \u001b[0;36m0.84\u001b[0m\u001b[0;34m)\u001b[0m\u001b[0;34m,\u001b[0m\u001b[0mshow_titles\u001b[0m\u001b[0;34m=\u001b[0m\u001b[0;32mTrue\u001b[0m\u001b[0;34m,\u001b[0m\u001b[0;34m\u001b[0m\u001b[0;34m\u001b[0m\u001b[0m\n\u001b[1;32m      5\u001b[0m     title_fmt='g', use_math_text=True, fig=fig)\n",
      "\u001b[0;32m~/anaconda3/lib/python3.9/site-packages/corner.py\u001b[0m in \u001b[0;36mcorner\u001b[0;34m(xs, bins, range, weights, color, smooth, smooth1d, labels, label_kwargs, show_titles, title_fmt, title_kwargs, truths, truth_color, scale_hist, quantiles, verbose, fig, max_n_ticks, top_ticks, use_math_text, hist_kwargs, **hist2d_kwargs)\u001b[0m\n\u001b[1;32m    189\u001b[0m             \u001b[0mm\u001b[0m \u001b[0;34m=\u001b[0m \u001b[0mnp\u001b[0m\u001b[0;34m.\u001b[0m\u001b[0marray\u001b[0m\u001b[0;34m(\u001b[0m\u001b[0;34m[\u001b[0m\u001b[0me\u001b[0m\u001b[0;34m[\u001b[0m\u001b[0;36m0\u001b[0m\u001b[0;34m]\u001b[0m \u001b[0;34m==\u001b[0m \u001b[0me\u001b[0m\u001b[0;34m[\u001b[0m\u001b[0;36m1\u001b[0m\u001b[0;34m]\u001b[0m \u001b[0;32mfor\u001b[0m \u001b[0me\u001b[0m \u001b[0;32min\u001b[0m \u001b[0mrange\u001b[0m\u001b[0;34m]\u001b[0m\u001b[0;34m,\u001b[0m \u001b[0mdtype\u001b[0m\u001b[0;34m=\u001b[0m\u001b[0mbool\u001b[0m\u001b[0;34m)\u001b[0m\u001b[0;34m\u001b[0m\u001b[0;34m\u001b[0m\u001b[0m\n\u001b[1;32m    190\u001b[0m             \u001b[0;32mif\u001b[0m \u001b[0mnp\u001b[0m\u001b[0;34m.\u001b[0m\u001b[0many\u001b[0m\u001b[0;34m(\u001b[0m\u001b[0mm\u001b[0m\u001b[0;34m)\u001b[0m\u001b[0;34m:\u001b[0m\u001b[0;34m\u001b[0m\u001b[0;34m\u001b[0m\u001b[0m\n\u001b[0;32m--> 191\u001b[0;31m                 raise ValueError((\"It looks like the parameter(s) in \"\n\u001b[0m\u001b[1;32m    192\u001b[0m                                   \u001b[0;34m\"column(s) {0} have no dynamic range. \"\u001b[0m\u001b[0;34m\u001b[0m\u001b[0;34m\u001b[0m\u001b[0m\n\u001b[1;32m    193\u001b[0m                                   \"Please provide a `range` argument.\")\n",
      "\u001b[0;31mValueError\u001b[0m: It looks like the parameter(s) in column(s) 0 have no dynamic range. Please provide a `range` argument."
     ]
    },
    {
     "data": {
      "text/plain": [
       "<Figure size 700x700 with 0 Axes>"
      ]
     },
     "metadata": {},
     "output_type": "display_data"
    }
   ],
   "source": [
    "labels = ['x','y','f']\n",
    "fig=plt.figure(figsize=(7,7),dpi=100)\n",
    "fig=corner.corner(\n",
    "    result_brute, labels=labels, quantiles=(0.16, 0.84),show_titles=True,\n",
    "    title_fmt='g', use_math_text=True, fig=fig)\n",
    "fig.show()"
   ]
  },
  {
   "cell_type": "code",
   "execution_count": null,
   "id": "f3a4ca40",
   "metadata": {},
   "outputs": [],
   "source": []
  }
 ],
 "metadata": {
  "kernelspec": {
   "display_name": "Python 3 (ipykernel)",
   "language": "python",
   "name": "python3"
  },
  "language_info": {
   "codemirror_mode": {
    "name": "ipython",
    "version": 3
   },
   "file_extension": ".py",
   "mimetype": "text/x-python",
   "name": "python",
   "nbconvert_exporter": "python",
   "pygments_lexer": "ipython3",
   "version": "3.9.7"
  }
 },
 "nbformat": 4,
 "nbformat_minor": 5
}
