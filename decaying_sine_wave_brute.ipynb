{
 "cells": [
  {
   "cell_type": "markdown",
   "id": "8169f402",
   "metadata": {},
   "source": [
    "#### Example 2: fit of a decaying sine wave\n",
    "#### In this example, we will explain some of the options of the algorithm.\n",
    "#### We start off by generating some synthetic data with noise for a decaying sine wave, define an objective function, and create/initialize a Parameter set."
   ]
  },
  {
   "cell_type": "code",
   "execution_count": 1,
   "id": "0cccbff4",
   "metadata": {},
   "outputs": [],
   "source": [
    "import copy\n",
    "\n",
    "from matplotlib.colors import LogNorm\n",
    "import matplotlib.pyplot as plt\n",
    "import numpy as np\n",
    "\n",
    "from lmfit import Minimizer, Parameters, fit_report\n",
    "\n",
    "from matplotlib import rc\n",
    "rc('text', usetex=True)\n",
    "rc('font', family='serif',size=14)"
   ]
  },
  {
   "cell_type": "code",
   "execution_count": 2,
   "id": "045c6e6b",
   "metadata": {},
   "outputs": [
    {
     "data": {
      "image/png": "[encoded data removed]",
      "text/plain": [
       "<Figure size 432x288 with 1 Axes>"
      ]
     },
     "metadata": {
      "needs_background": "light"
     },
     "output_type": "display_data"
    }
   ],
   "source": [
    "x = np.linspace(0, 15, 301)\n",
    "np.random.seed(7)\n",
    "noise = np.random.normal(size=x.size, scale=0.2)\n",
    "data = (5. * np.sin(2*x - 0.1) * np.exp(-x*x*0.025) + noise)\n",
    "plt.plot(x, data, 'o')\n",
    "plt.show()\n",
    "\n",
    "\n",
    "def fcn2min(params, x, data):\n",
    "    \"\"\"Model decaying sine wave, subtract data.\"\"\"\n",
    "    amp = params['amp']\n",
    "    shift = params['shift']\n",
    "    omega = params['omega']\n",
    "    decay = params['decay']\n",
    "    model = amp * np.sin(x*omega + shift) * np.exp(-x*x*decay)\n",
    "    return model - data\n",
    "\n",
    "\n",
    "# create a set of Parameters\n",
    "params = Parameters()\n",
    "params.add('amp', value=7, min=2.5)\n",
    "params.add('decay', value=0.05)\n",
    "params.add('shift', value=0.0, min=-np.pi/2., max=np.pi/2)\n",
    "params.add('omega', value=3, max=5)"
   ]
  },
  {
   "cell_type": "markdown",
   "id": "e17b6f47",
   "metadata": {},
   "source": [
    "#### In contrast to the implementation in SciPy (as shown in the first example), varying parameters do not need to have finite bounds in lmfit. However, in that case they do need the brute_step attribute specified, so let's do that:"
   ]
  },
  {
   "cell_type": "code",
   "execution_count": 3,
   "id": "14c959bc",
   "metadata": {},
   "outputs": [],
   "source": [
    "params['amp'].set(brute_step=0.25)\n",
    "params['decay'].set(brute_step=0.005)\n",
    "params['omega'].set(brute_step=0.25)"
   ]
  },
  {
   "cell_type": "markdown",
   "id": "75820694",
   "metadata": {},
   "source": [
    "#### Our initial parameter set is now defined as shown below and this will determine how the grid is set-up."
   ]
  },
  {
   "cell_type": "code",
   "execution_count": 4,
   "id": "dc34347a",
   "metadata": {},
   "outputs": [
    {
     "name": "stdout",
     "output_type": "stream",
     "text": [
      "Name      Value      Min      Max   Stderr     Vary     Expr Brute_Step\n",
      "amp           7      2.5      inf     None     True     None     0.25\n",
      "decay      0.05     -inf      inf     None     True     None    0.005\n",
      "omega         3     -inf        5     None     True     None     0.25\n",
      "shift         0   -1.571    1.571     None     True     None     None\n"
     ]
    }
   ],
   "source": [
    "params.pretty_print()"
   ]
  },
  {
   "cell_type": "markdown",
   "id": "93852a06",
   "metadata": {},
   "source": [
    "#### First, we initialize a Minimizer and perform the grid search:"
   ]
  },
  {
   "cell_type": "code",
   "execution_count": 5,
   "id": "87381795",
   "metadata": {},
   "outputs": [],
   "source": [
    "fitter = Minimizer(fcn2min, params, fcn_args=(x, data))\n",
    "result_brute = fitter.minimize(method='brute', Ns=25, keep=25)"
   ]
  },
  {
   "cell_type": "markdown",
   "id": "de16b5ef",
   "metadata": {},
   "source": [
    "#### We used two new parameters here: Ns and keep. The parameter Ns determines the 'number of grid points along the axes' similarly to its usage in SciPy. Together with brute_step, min and max for a Parameter it will dictate how the grid is set-up:\n",
    "#### (1) finite bounds are specified (\"SciPy implementation\"): uses brute_step if present (in the example above) or uses Ns to generate the grid. The latter scenario that interpolates Ns points from min to max (inclusive), is here shown for the parameter shift:"
   ]
  },
  {
   "cell_type": "code",
   "execution_count": 6,
   "id": "0cec8b6d",
   "metadata": {},
   "outputs": [
    {
     "name": "stdout",
     "output_type": "stream",
     "text": [
      "parameter = shift\n",
      "number of steps = 25\n",
      "grid = [-1.57079633 -1.43989663 -1.30899694 -1.17809725 -1.04719755 -0.91629786\n",
      " -0.78539816 -0.65449847 -0.52359878 -0.39269908 -0.26179939 -0.13089969\n",
      "  0.          0.13089969  0.26179939  0.39269908  0.52359878  0.65449847\n",
      "  0.78539816  0.91629786  1.04719755  1.17809725  1.30899694  1.43989663\n",
      "  1.57079633]\n"
     ]
    }
   ],
   "source": [
    "par_name = 'shift'\n",
    "indx_shift = result_brute.var_names.index(par_name)\n",
    "grid_shift = np.unique(result_brute.brute_grid[indx_shift].ravel())\n",
    "print(f\"parameter = {par_name}\\nnumber of steps = {len(grid_shift)}\\ngrid = {grid_shift}\")"
   ]
  },
  {
   "cell_type": "markdown",
   "id": "fed393be",
   "metadata": {},
   "source": [
    "#### If finite bounds are not set for a certain parameter then the user must specify brute_step - three more scenarios are considered here:\n",
    "#### (2) lower bound (min) and brute_step are specified: range = (min, min + Ns * brute_step, brute_step)"
   ]
  },
  {
   "cell_type": "code",
   "execution_count": 7,
   "id": "a0094121",
   "metadata": {},
   "outputs": [
    {
     "name": "stdout",
     "output_type": "stream",
     "text": [
      "parameter = amp\n",
      "number of steps = 25\n",
      "grid = [2.5  2.75 3.   3.25 3.5  3.75 4.   4.25 4.5  4.75 5.   5.25 5.5  5.75\n",
      " 6.   6.25 6.5  6.75 7.   7.25 7.5  7.75 8.   8.25 8.5 ]\n"
     ]
    }
   ],
   "source": [
    "par_name = 'amp'\n",
    "indx_shift = result_brute.var_names.index(par_name)\n",
    "grid_shift = np.unique(result_brute.brute_grid[indx_shift].ravel())\n",
    "print(f\"parameter = {par_name}\\nnumber of steps = {len(grid_shift)}\\ngrid = {grid_shift}\")"
   ]
  },
  {
   "cell_type": "markdown",
   "id": "5cb48ece",
   "metadata": {},
   "source": [
    "#### (3) upper bound (max) and brute_step are specified: range = (max - Ns * brute_step, max, brute_step)"
   ]
  },
  {
   "cell_type": "code",
   "execution_count": 8,
   "id": "d6ec9506",
   "metadata": {},
   "outputs": [
    {
     "name": "stdout",
     "output_type": "stream",
     "text": [
      "parameter = omega\n",
      "number of steps = 25\n",
      "grid = [-1.25 -1.   -0.75 -0.5  -0.25  0.    0.25  0.5   0.75  1.    1.25  1.5\n",
      "  1.75  2.    2.25  2.5   2.75  3.    3.25  3.5   3.75  4.    4.25  4.5\n",
      "  4.75]\n"
     ]
    }
   ],
   "source": [
    "par_name = 'omega'\n",
    "indx_shift = result_brute.var_names.index(par_name)\n",
    "grid_shift = np.unique(result_brute.brute_grid[indx_shift].ravel())\n",
    "print(f\"parameter = {par_name}\\nnumber of steps = {len(grid_shift)}\\ngrid = {grid_shift}\")"
   ]
  },
  {
   "cell_type": "markdown",
   "id": "bfae8c02",
   "metadata": {},
   "source": [
    "#### (4) numerical value (value) and brute_step are specified: range = (value - (Ns//2) * brute_step, value + (Ns//2) * brute_step, brute_step)"
   ]
  },
  {
   "cell_type": "code",
   "execution_count": 9,
   "id": "14020bb9",
   "metadata": {},
   "outputs": [
    {
     "name": "stdout",
     "output_type": "stream",
     "text": [
      "parameter = decay\n",
      "number of steps = 24\n",
      "grid = [-1.00000000e-02 -5.00000000e-03  5.20417043e-18  5.00000000e-03\n",
      "  1.00000000e-02  1.50000000e-02  2.00000000e-02  2.50000000e-02\n",
      "  3.00000000e-02  3.50000000e-02  4.00000000e-02  4.50000000e-02\n",
      "  5.00000000e-02  5.50000000e-02  6.00000000e-02  6.50000000e-02\n",
      "  7.00000000e-02  7.50000000e-02  8.00000000e-02  8.50000000e-02\n",
      "  9.00000000e-02  9.50000000e-02  1.00000000e-01  1.05000000e-01]\n"
     ]
    }
   ],
   "source": [
    "par_name = 'decay'\n",
    "indx_shift = result_brute.var_names.index(par_name)\n",
    "grid_shift = np.unique(result_brute.brute_grid[indx_shift].ravel())\n",
    "print(f\"parameter = {par_name}\\nnumber of steps = {len(grid_shift)}\\ngrid = {grid_shift}\")"
   ]
  },
  {
   "cell_type": "markdown",
   "id": "2c55e33e",
   "metadata": {},
   "source": [
    "#### The MinimizerResult contains all the usual best-fit parameters and fitting statistics. For example, the optimal solution from the grid search is given below together with a plot:"
   ]
  },
  {
   "cell_type": "code",
   "execution_count": 10,
   "id": "acd46533",
   "metadata": {},
   "outputs": [
    {
     "name": "stdout",
     "output_type": "stream",
     "text": [
      "[[Fit Statistics]]\n",
      "    # fitting method   = brute\n",
      "    # function evals   = 375000\n",
      "    # data points      = 301\n",
      "    # variables        = 4\n",
      "    chi-square         = 11.9353671\n",
      "    reduced chi-square = 0.04018642\n",
      "    Akaike info crit   = -963.508878\n",
      "    Bayesian info crit = -948.680437\n",
      "##  Warning: uncertainties could not be estimated:\n",
      "[[Variables]]\n",
      "    amp:    5.00000000 (init = 7)\n",
      "    decay:  0.02500000 (init = 0.05)\n",
      "    shift: -0.13089969 (init = 0)\n",
      "    omega:  2.00000000 (init = 3)\n"
     ]
    }
   ],
   "source": [
    "print(fit_report(result_brute))"
   ]
  },
  {
   "cell_type": "code",
   "execution_count": 11,
   "id": "744d1a54",
   "metadata": {},
   "outputs": [
    {
     "data": {
      "image/png": "[encoded data removed]",
      "text/plain": [
       "<Figure size 432x288 with 1 Axes>"
      ]
     },
     "metadata": {
      "needs_background": "light"
     },
     "output_type": "display_data"
    }
   ],
   "source": [
    "plt.plot(x, data, 'o')\n",
    "plt.plot(x, data + fcn2min(result_brute.params, x, data), '--')\n",
    "plt.show()"
   ]
  },
  {
   "cell_type": "markdown",
   "id": "d0924e2c",
   "metadata": {},
   "source": [
    "#### We can see that this fit is already very good, which is what we should expect since our brute force grid is sampled rather finely and encompasses the \"correct\" values.\n",
    "#### In a more realistic, complicated example the brute method will be used to get reasonable values for the parameters and perform another minimization (e.g., using leastsq) using those as starting values. That is where the keep parameter comes into play: it determines the \"number of best candidates from the brute force method that are stored in the candidates attribute\". In the example above we store the best-ranking 25 solutions (the default value is 50 and storing all the grid points can be accomplished by choosing all). The candidates attribute contains the parameters and chisqr from the brute force method as a namedtuple, (‘Candidate’, [‘params’, ‘score’]), sorted on the (lowest) chisqr value. To access the values for a particular candidate one can use result.candidate[#].params or result.candidate[#].score, where a lower # represents a better candidate. The show_candidates(#) uses the pretty_print() method to show a specific candidate-# or all candidates when no number is specified.\n",
    "#### The optimal fit is, as usual, stored in the MinimizerResult.params attribute and is, therefore, identical to result_brute.show_candidates(1)."
   ]
  },
  {
   "cell_type": "code",
   "execution_count": 12,
   "id": "1471abd5",
   "metadata": {},
   "outputs": [
    {
     "name": "stdout",
     "output_type": "stream",
     "text": [
      "\n",
      "Candidate #1, chisqr = 11.935\n",
      "Name      Value      Min      Max   Stderr     Vary     Expr Brute_Step\n",
      "amp           5      2.5      inf     None     True     None     0.25\n",
      "decay     0.025     -inf      inf     None     True     None    0.005\n",
      "omega         2     -inf        5     None     True     None     0.25\n",
      "shift   -0.1309   -1.571    1.571     None     True     None     None\n"
     ]
    }
   ],
   "source": [
    "result_brute.show_candidates(1)"
   ]
  },
  {
   "cell_type": "markdown",
   "id": "f4fbf331",
   "metadata": {},
   "source": [
    "#### In this case, the next-best scoring candidate has already a chisqr that increased quite a bit:"
   ]
  },
  {
   "cell_type": "code",
   "execution_count": 13,
   "id": "558f44ed",
   "metadata": {},
   "outputs": [
    {
     "name": "stdout",
     "output_type": "stream",
     "text": [
      "\n",
      "Candidate #2, chisqr = 13.994\n",
      "Name      Value      Min      Max   Stderr     Vary     Expr Brute_Step\n",
      "amp        4.75      2.5      inf     None     True     None     0.25\n",
      "decay     0.025     -inf      inf     None     True     None    0.005\n",
      "omega         2     -inf        5     None     True     None     0.25\n",
      "shift   -0.1309   -1.571    1.571     None     True     None     None\n"
     ]
    }
   ],
   "source": [
    "result_brute.show_candidates(2)"
   ]
  },
  {
   "cell_type": "markdown",
   "id": "c596ebd1",
   "metadata": {},
   "source": [
    "#### and is, therefore, probably not so likely... However, as said above, in most cases you'll want to do another minimization using the solutions from the brute method as starting values. That can be easily accomplished as shown in the code below, where we now perform a leastsq minimization starting from the top-25 solutions and accept the solution if the chisqr is lower than the previously 'optimal' solution:"
   ]
  },
  {
   "cell_type": "code",
   "execution_count": 14,
   "id": "0836ab91",
   "metadata": {},
   "outputs": [],
   "source": [
    "best_result = copy.deepcopy(result_brute)\n",
    "\n",
    "for candidate in result_brute.candidates:\n",
    "    trial = fitter.minimize(method='leastsq', params=candidate.params)\n",
    "    if trial.chisqr < best_result.chisqr:\n",
    "        best_result = trial"
   ]
  },
  {
   "cell_type": "markdown",
   "id": "fb31de38",
   "metadata": {},
   "source": [
    "#### From the leastsq minimization we obtain the following parameters for the most optimal result:"
   ]
  },
  {
   "cell_type": "code",
   "execution_count": 15,
   "id": "df11c597",
   "metadata": {},
   "outputs": [
    {
     "name": "stdout",
     "output_type": "stream",
     "text": [
      "[[Fit Statistics]]\n",
      "    # fitting method   = leastsq\n",
      "    # function evals   = 21\n",
      "    # data points      = 301\n",
      "    # variables        = 4\n",
      "    chi-square         = 10.8653514\n",
      "    reduced chi-square = 0.03658367\n",
      "    Akaike info crit   = -991.780924\n",
      "    Bayesian info crit = -976.952483\n",
      "[[Variables]]\n",
      "    amp:    5.00323088 +/- 0.03805940 (0.76%) (init = 5.25)\n",
      "    decay:  0.02563850 +/- 4.4571e-04 (1.74%) (init = 0.025)\n",
      "    shift: -0.09162988 +/- 0.00978382 (10.68%) (init = 0)\n",
      "    omega:  1.99611629 +/- 0.00316225 (0.16%) (init = 2)\n",
      "[[Correlations]] (unreported correlations are < 0.100)\n",
      "    C(shift, omega) = -0.785\n",
      "    C(amp, decay)   = 0.584\n",
      "    C(amp, shift)   = -0.121\n"
     ]
    }
   ],
   "source": [
    "print(fit_report(best_result))"
   ]
  },
  {
   "cell_type": "markdown",
   "id": "b7debab8",
   "metadata": {},
   "source": [
    "#### As expected the parameters have not changed significantly as they were already very close to the \"real\" values, which can also be appreciated from the plots below."
   ]
  },
  {
   "cell_type": "code",
   "execution_count": 16,
   "id": "8808227b",
   "metadata": {},
   "outputs": [
    {
     "data": {
      "image/png": "[encoded data removed]",
      "text/plain": [
       "<Figure size 432x288 with 1 Axes>"
      ]
     },
     "metadata": {
      "needs_background": "light"
     },
     "output_type": "display_data"
    }
   ],
   "source": [
    "plt.plot(x, data, 'o')\n",
    "plt.plot(x, data + fcn2min(result_brute.params, x, data), '-',\n",
    "         label='brute')\n",
    "plt.plot(x, data + fcn2min(best_result.params, x, data), '--',\n",
    "         label='brute followed by leastsq')\n",
    "plt.legend()\n",
    "plt.show()"
   ]
  },
  {
   "cell_type": "markdown",
   "id": "6128bfcc",
   "metadata": {},
   "source": [
    "#### Finally, the results from the brute force grid-search can be visualized using the rather lengthy Python function below (which might get incorporated in lmfit at some point)."
   ]
  },
  {
   "cell_type": "code",
   "execution_count": 17,
   "id": "06a98664",
   "metadata": {},
   "outputs": [],
   "source": [
    "def plot_results_brute(result, best_vals=True, varlabels=None,\n",
    "                       output=None):\n",
    "    \"\"\"Visualize the result of the brute force grid search.\n",
    "\n",
    "    The output file will display the chi-square value per parameter and contour\n",
    "    plots for all combination of two parameters.\n",
    "\n",
    "    Inspired by the `corner` package (https://github.com/dfm/corner.py).\n",
    "\n",
    "    Parameters\n",
    "    ----------\n",
    "    result : :class:`~lmfit.minimizer.MinimizerResult`\n",
    "        Contains the results from the :meth:`brute` method.\n",
    "\n",
    "    best_vals : bool, optional\n",
    "        Whether to show the best values from the grid search (default is True).\n",
    "\n",
    "    varlabels : list, optional\n",
    "        If None (default), use `result.var_names` as axis labels, otherwise\n",
    "        use the names specified in `varlabels`.\n",
    "\n",
    "    output : str, optional\n",
    "        Name of the output PDF file (default is 'None')\n",
    "    \"\"\"\n",
    "    npars = len(result.var_names)\n",
    "    _fig, axes = plt.subplots(npars, npars)\n",
    "\n",
    "    if not varlabels:\n",
    "        varlabels = result.var_names\n",
    "    if best_vals and isinstance(best_vals, bool):\n",
    "        best_vals = result.params\n",
    "\n",
    "    for i, par1 in enumerate(result.var_names):\n",
    "        for j, par2 in enumerate(result.var_names):\n",
    "\n",
    "            # parameter vs chi2 in case of only one parameter\n",
    "            if npars == 1:\n",
    "                axes.plot(result.brute_grid, result.brute_Jout, 'o', ms=3)\n",
    "                axes.set_ylabel(r'$\\chi^{2}$')\n",
    "                axes.set_xlabel(varlabels[i])\n",
    "                if best_vals:\n",
    "                    axes.axvline(best_vals[par1].value, ls='dashed', color='r')\n",
    "\n",
    "            # parameter vs chi2 profile on top\n",
    "            elif i == j and j < npars-1:\n",
    "                if i == 0:\n",
    "                    axes[0, 0].axis('off')\n",
    "                ax = axes[i, j+1]\n",
    "                red_axis = tuple(a for a in range(npars) if a != i)\n",
    "                ax.plot(np.unique(result.brute_grid[i]),\n",
    "                        np.minimum.reduce(result.brute_Jout, axis=red_axis),\n",
    "                        'o', ms=3)\n",
    "                ax.set_ylabel(r'$\\chi^{2}$')\n",
    "                ax.yaxis.set_label_position(\"right\")\n",
    "                ax.yaxis.set_ticks_position('right')\n",
    "                ax.set_xticks([])\n",
    "                if best_vals:\n",
    "                    ax.axvline(best_vals[par1].value, ls='dashed', color='r')\n",
    "\n",
    "            # parameter vs chi2 profile on the left\n",
    "            elif j == 0 and i > 0:\n",
    "                ax = axes[i, j]\n",
    "                red_axis = tuple(a for a in range(npars) if a != i)\n",
    "                ax.plot(np.minimum.reduce(result.brute_Jout, axis=red_axis),\n",
    "                        np.unique(result.brute_grid[i]), 'o', ms=3)\n",
    "                ax.invert_xaxis()\n",
    "                ax.set_ylabel(varlabels[i])\n",
    "                if i != npars-1:\n",
    "                    ax.set_xticks([])\n",
    "                else:\n",
    "                    ax.set_xlabel(r'$\\chi^{2}$')\n",
    "                if best_vals:\n",
    "                    ax.axhline(best_vals[par1].value, ls='dashed', color='r')\n",
    "\n",
    "            # contour plots for all combinations of two parameters\n",
    "            elif j > i:\n",
    "                ax = axes[j, i+1]\n",
    "                red_axis = tuple(a for a in range(npars) if a not in (i, j))\n",
    "                X, Y = np.meshgrid(np.unique(result.brute_grid[i]),\n",
    "                                   np.unique(result.brute_grid[j]))\n",
    "                lvls1 = np.linspace(result.brute_Jout.min(),\n",
    "                                    np.median(result.brute_Jout)/2.0, 7, dtype='int')\n",
    "                lvls2 = np.linspace(np.median(result.brute_Jout)/2.0,\n",
    "                                    np.median(result.brute_Jout), 3, dtype='int')\n",
    "                lvls = np.unique(np.concatenate((lvls1, lvls2)))\n",
    "                ax.contourf(X.T, Y.T, np.minimum.reduce(result.brute_Jout, axis=red_axis),\n",
    "                            lvls, norm=LogNorm())\n",
    "                ax.set_yticks([])\n",
    "                if best_vals:\n",
    "                    ax.axvline(best_vals[par1].value, ls='dashed', color='r')\n",
    "                    ax.axhline(best_vals[par2].value, ls='dashed', color='r')\n",
    "                    ax.plot(best_vals[par1].value, best_vals[par2].value, 'rs', ms=3)\n",
    "                if j != npars-1:\n",
    "                    ax.set_xticks([])\n",
    "                else:\n",
    "                    ax.set_xlabel(varlabels[i])\n",
    "                if j - i >= 2:\n",
    "                    axes[i, j].axis('off')\n",
    "\n",
    "    if output is not None:\n",
    "        plt.savefig(output)"
   ]
  },
  {
   "cell_type": "markdown",
   "id": "f000d4e4",
   "metadata": {},
   "source": [
    "#### and finally, to generated the figure:"
   ]
  },
  {
   "cell_type": "code",
   "execution_count": 18,
   "id": "99682e16",
   "metadata": {},
   "outputs": [
    {
     "data": {
      "image/png": "[encoded data removed]",
      "text/plain": [
       "<Figure size 432x288 with 16 Axes>"
      ]
     },
     "metadata": {
      "needs_background": "light"
     },
     "output_type": "display_data"
    }
   ],
   "source": [
    "plot_results_brute(result_brute, best_vals=True, varlabels=None)"
   ]
  },
  {
   "cell_type": "code",
   "execution_count": null,
   "id": "e438b2aa",
   "metadata": {},
   "outputs": [],
   "source": []
  }
 ],
 "metadata": {
  "kernelspec": {
   "display_name": "Python 3 (ipykernel)",
   "language": "python",
   "name": "python3"
  },
  "language_info": {
   "codemirror_mode": {
    "name": "ipython",
    "version": 3
   },
   "file_extension": ".py",
   "mimetype": "text/x-python",
   "name": "python",
   "nbconvert_exporter": "python",
   "pygments_lexer": "ipython3",
   "version": "3.9.7"
  }
 },
 "nbformat": 4,
 "nbformat_minor": 5
}
