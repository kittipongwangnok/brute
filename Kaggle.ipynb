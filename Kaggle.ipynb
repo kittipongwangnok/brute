{
 "cells": [
  {
   "cell_type": "code",
   "execution_count": 1,
   "id": "09bc8d11",
   "metadata": {},
   "outputs": [],
   "source": [
    "params = (2, 3, 7, 8, 9, 10, 44, -1, 2, 26, 1, -2, 0.5)"
   ]
  },
  {
   "cell_type": "code",
   "execution_count": 2,
   "id": "7faeb3e9",
   "metadata": {},
   "outputs": [],
   "source": [
    "def f1(z, *params):\n",
    "    x, y = z\n",
    "    a, b, c, d, e, f, g, h, i, j, k, l, scale = params\n",
    "    return (a * x**2 + b * x * y + c * y**2 + d*x + e*y + f)\n",
    "\n",
    "def f2(z, *params):\n",
    "    x, y = z\n",
    "    a, b, c, d, e, f, g, h, i, j, k, l, scale = params\n",
    "    return (-g*np.exp(-((x-h)**2 + (y-i)**2) / scale))\n",
    "\n",
    "def f3(z, *params):\n",
    "    x, y = z\n",
    "    a, b, c, d, e, f, g, h, i, j, k, l, scale = params\n",
    "    return (-j*np.exp(-((x-k)**2 + (y-l)**2) / scale))\n",
    "\n",
    "def f(z, *params):\n",
    "    return f1(z, *params) + f2(z, *params) + f3(z, *params)"
   ]
  },
  {
   "cell_type": "code",
   "execution_count": 3,
   "id": "70913a9f",
   "metadata": {},
   "outputs": [],
   "source": [
    "rranges = (slice(-4, 4, 0.25), slice(-4, 4, 0.25))"
   ]
  },
  {
   "cell_type": "code",
   "execution_count": 4,
   "id": "69933d53",
   "metadata": {},
   "outputs": [],
   "source": [
    "from scipy import optimize\n",
    "import numpy as np"
   ]
  },
  {
   "cell_type": "code",
   "execution_count": 5,
   "id": "a62813a5",
   "metadata": {},
   "outputs": [],
   "source": [
    "resbrute = optimize.brute(f, rranges, args=params, full_output=True,finish=optimize.fmin)"
   ]
  },
  {
   "cell_type": "code",
   "execution_count": 6,
   "id": "445835d5",
   "metadata": {},
   "outputs": [
    {
     "data": {
      "text/plain": [
       "array([-1.05665192,  1.80834843])"
      ]
     },
     "execution_count": 6,
     "metadata": {},
     "output_type": "execute_result"
    }
   ],
   "source": [
    "resbrute[0]  # global minimum"
   ]
  },
  {
   "cell_type": "code",
   "execution_count": 7,
   "id": "861f6936",
   "metadata": {},
   "outputs": [
    {
     "data": {
      "text/plain": [
       "-3.4085818767996527"
      ]
     },
     "execution_count": 7,
     "metadata": {},
     "output_type": "execute_result"
    }
   ],
   "source": [
    "resbrute[1]  # function value at global minimum"
   ]
  },
  {
   "cell_type": "code",
   "execution_count": null,
   "id": "a3cc9b91",
   "metadata": {},
   "outputs": [],
   "source": []
  }
 ],
 "metadata": {
  "kernelspec": {
   "display_name": "Python 3 (ipykernel)",
   "language": "python",
   "name": "python3"
  },
  "language_info": {
   "codemirror_mode": {
    "name": "ipython",
    "version": 3
   },
   "file_extension": ".py",
   "mimetype": "text/x-python",
   "name": "python",
   "nbconvert_exporter": "python",
   "pygments_lexer": "ipython3",
   "version": "3.9.7"
  }
 },
 "nbformat": 4,
 "nbformat_minor": 5
}
